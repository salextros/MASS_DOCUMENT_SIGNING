{
 "cells": [
  {
   "cell_type": "markdown",
   "metadata": {},
   "source": [
    "# *CÓDIGO_REAL*"
   ]
  },
  {
   "cell_type": "code",
   "execution_count": 14,
   "metadata": {},
   "outputs": [
    {
     "name": "stdout",
     "output_type": "stream",
     "text": [
      "Proceso completado.\n"
     ]
    }
   ],
   "source": [
    "import os\n",
    "import fitz\n",
    "from PIL import Image\n",
    "import io\n",
    "\n",
    "def pegar_firma(pdf_path, firma_path, output_path):\n",
    "    # Abrir el PDF\n",
    "    pdf_document = fitz.open(pdf_path)\n",
    "\n",
    "    # Obtener la primera página del PDF (ajusta según tus necesidades)\n",
    "    page = pdf_document[0]\n",
    "\n",
    "    # Abrir la imagen de la firma\n",
    "    firma_image = Image.open(firma_path)\n",
    "\n",
    "    # Aplicar un efecto espejo vertical\n",
    "    firma_image = firma_image.transpose(Image.FLIP_TOP_BOTTOM)\n",
    "\n",
    "    # Obtener las dimensiones de la imagen de la firma\n",
    "    firma_width, firma_height = firma_image.size\n",
    "\n",
    "    # Convertir la imagen de Pillow a bytearray\n",
    "    firma_byte_array = io.BytesIO()\n",
    "    firma_image.save(firma_byte_array, format='PNG')\n",
    "\n",
    "    # Obtener las coordenadas donde deseas pegar la firma (ajusta según tus necesidades)\n",
    "    x, y = 70, 580 # Reduje el valor de y para mover la firma más arriba\n",
    "\n",
    "    # Pegar la firma en la página del PDF\n",
    "    page.insert_image(\n",
    "        fitz.Rect(x, y, x + firma_width, y + firma_height),\n",
    "        pixmap=fitz.Pixmap(firma_byte_array.getvalue()),\n",
    "    )\n",
    "    \n",
    "    # Guardar el PDF con la firma\n",
    "    pdf_document.save(output_path)\n",
    "\n",
    "    # Cerrar el PDF\n",
    "    pdf_document.close()\n",
    "\n",
    "def pegar_firma_en_archivos(carpeta_actual, firma_path):\n",
    "    # Crear la carpeta DOCUMENTOS_FIRMADOS si no existe\n",
    "    carpeta_firmados = os.path.join(carpeta_actual, 'DOCUMENTOS_FIRMADOS')\n",
    "    if not os.path.exists(carpeta_firmados):\n",
    "        os.makedirs(carpeta_firmados)\n",
    "\n",
    "    # Obtener la lista de archivos PDF en la carpeta actual\n",
    "    archivos_pdf = [archivo for archivo in os.listdir(carpeta_actual) if archivo.lower().endswith('.pdf')]\n",
    "\n",
    "    # Iterar sobre cada archivo PDF y aplicar la función pegar_firma\n",
    "    for archivo_pdf in archivos_pdf:\n",
    "        # Construir las rutas de entrada y salida para cada archivo PDF\n",
    "        pdf_path = os.path.join(carpeta_actual, archivo_pdf)\n",
    "        output_path = os.path.join(carpeta_firmados, f'{archivo_pdf.split(\".\")[0]}_firmado.pdf')\n",
    "\n",
    "        # Aplicar la función pegar_firma\n",
    "        pegar_firma(pdf_path, firma_path, output_path)\n",
    "\n",
    "    print(\"Proceso completado.\")\n",
    "\n",
    "# Ruta de la carpeta actual (donde está el código y los archivos PDF)\n",
    "carpeta_actual = os.getcwd()\n",
    "\n",
    "# Ruta de la imagen de la firma\n",
    "firma_path = 'firma.png'  # Asume que la firma está en la misma carpeta que el código\n",
    "\n",
    "# Llamar a la función para procesar todos los archivos PDF en la carpeta\n",
    "pegar_firma_en_archivos(carpeta_actual, firma_path)\n"
   ]
  }
 ],
 "metadata": {
  "kernelspec": {
   "display_name": "Python 3",
   "language": "python",
   "name": "python3"
  },
  "language_info": {
   "codemirror_mode": {
    "name": "ipython",
    "version": 3
   },
   "file_extension": ".py",
   "mimetype": "text/x-python",
   "name": "python",
   "nbconvert_exporter": "python",
   "pygments_lexer": "ipython3",
   "version": "3.10.11"
  }
 },
 "nbformat": 4,
 "nbformat_minor": 2
}
